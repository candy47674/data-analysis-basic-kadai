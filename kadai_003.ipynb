{
  "nbformat": 4,
  "nbformat_minor": 0,
  "metadata": {
    "colab": {
      "provenance": [],
      "toc_visible": true
    },
    "kernelspec": {
      "name": "python3",
      "display_name": "Python 3"
    },
    "language_info": {
      "name": "python"
    }
  },
  "cells": [
    {
      "cell_type": "code",
      "execution_count": 16,
      "metadata": {
        "colab": {
          "base_uri": "https://localhost:8080/"
        },
        "id": "x0AW-NgY23qC",
        "outputId": "5127f9be-9da6-4c0d-f7d6-66533e5e9b55"
      },
      "outputs": [
        {
          "output_type": "stream",
          "name": "stdout",
          "text": [
            "[[ 4  5  6  7]\n",
            " [12 17 22 27]\n",
            " [20 29 38 47]]\n",
            "47\n",
            "[ 5 17 29]\n"
          ]
        }
      ],
      "source": [
        "import numpy as np # インポート\n",
        "A =np.array([   #A配列\n",
        "    [0,1],\n",
        "    [2,3],\n",
        "    [4,5]])\n",
        "B =np.array([   #B配列\n",
        "    [0,1,2,3],\n",
        "    [4,5,6,7]])\n",
        "result = np.dot(A,B)    #行列積\n",
        "print(result)\n",
        "max_value = np.max(result)\n",
        "print(max_value)\n",
        "print(result[:, 1])   #二列めを表示\n",
        "\n"
      ]
    },
    {
      "cell_type": "markdown",
      "source": [
        "# 新しいセクション"
      ],
      "metadata": {
        "id": "tGahUCpGvf-F"
      }
    }
  ]
}